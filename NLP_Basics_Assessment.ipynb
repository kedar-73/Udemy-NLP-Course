{
  "cells": [
    {
      "cell_type": "markdown",
      "metadata": {
        "id": "view-in-github",
        "colab_type": "text"
      },
      "source": [
        "<a href=\"https://colab.research.google.com/github/kedar-73/Udemy-NLP-Course/blob/main/NLP_Basics_Assessment.ipynb\" target=\"_parent\"><img src=\"https://colab.research.google.com/assets/colab-badge.svg\" alt=\"Open In Colab\"/></a>"
      ]
    },
    {
      "cell_type": "markdown",
      "metadata": {
        "id": "jkvlDs-4rd01"
      },
      "source": [
        "# NLP Basics Assessment"
      ]
    },
    {
      "cell_type": "markdown",
      "metadata": {
        "id": "nPXf1NG1rd01"
      },
      "source": [
        "For this assessment we'll be using the short story [_An Occurrence at Owl Creek Bridge_](https://en.wikipedia.org/wiki/An_Occurrence_at_Owl_Creek_Bridge) by Ambrose Bierce (1890). <br>The story is in the public domain; the text file was obtained from [Project Gutenberg](https://www.gutenberg.org/ebooks/375.txt.utf-8)."
      ]
    },
    {
      "cell_type": "code",
      "execution_count": 1,
      "metadata": {
        "id": "uoQBlnu3rd01"
      },
      "outputs": [],
      "source": [
        "# RUN THIS CELL to perform standard imports:\n",
        "import spacy\n",
        "nlp = spacy.load('en_core_web_sm')"
      ]
    },
    {
      "cell_type": "markdown",
      "metadata": {
        "id": "SdqZnOmwrd01"
      },
      "source": [
        "**1. Create a Doc object from the file `owlcreek.txt`**<br>\n",
        "> HINT: Use `with open('../TextFiles/owlcreek.txt') as f:`"
      ]
    },
    {
      "cell_type": "code",
      "execution_count": 3,
      "metadata": {
        "id": "tINYEdQerd01"
      },
      "outputs": [],
      "source": [
        "# Enter your code here:\n",
        "with open('/content/owlcreek.txt') as f:\n",
        "    doc = nlp(f.read())\n"
      ]
    },
    {
      "cell_type": "code",
      "execution_count": 4,
      "metadata": {
        "colab": {
          "base_uri": "https://localhost:8080/"
        },
        "id": "MBFvMhv_rd02",
        "outputId": "dc31b6ed-6c35-4839-9f98-0b6ce84df005"
      },
      "outputs": [
        {
          "output_type": "execute_result",
          "data": {
            "text/plain": [
              "AN OCCURRENCE AT OWL CREEK BRIDGE\n",
              "\n",
              "by Ambrose Bierce\n",
              "\n",
              "I\n",
              "\n",
              "A man stood upon a railroad bridge in northern Alabama, looking down\n",
              "into the swift water twenty feet below.  "
            ]
          },
          "metadata": {},
          "execution_count": 4
        }
      ],
      "source": [
        "# Run this cell to verify it worked:\n",
        "\n",
        "doc[:36]"
      ]
    },
    {
      "cell_type": "markdown",
      "metadata": {
        "id": "OIzsAVrWrd02"
      },
      "source": [
        "**2. How many tokens are contained in the file?**"
      ]
    },
    {
      "cell_type": "code",
      "execution_count": 5,
      "metadata": {
        "colab": {
          "base_uri": "https://localhost:8080/"
        },
        "id": "Vffb1AiTrd02",
        "outputId": "f6d48170-be63-45b5-dc60-80880ce020b4"
      },
      "outputs": [
        {
          "output_type": "execute_result",
          "data": {
            "text/plain": [
              "4835"
            ]
          },
          "metadata": {},
          "execution_count": 5
        }
      ],
      "source": [
        "len(doc)"
      ]
    },
    {
      "cell_type": "markdown",
      "metadata": {
        "id": "FLt5RTtHrd02"
      },
      "source": [
        "**3. How many sentences are contained in the file?**<br>HINT: You'll want to build a list first!"
      ]
    },
    {
      "cell_type": "code",
      "execution_count": 7,
      "metadata": {
        "colab": {
          "base_uri": "https://localhost:8080/"
        },
        "id": "ZcfGSS8Hrd02",
        "outputId": "5edfa3a5-d64e-469b-e1ba-81dbf4311627"
      },
      "outputs": [
        {
          "output_type": "execute_result",
          "data": {
            "text/plain": [
              "204"
            ]
          },
          "metadata": {},
          "execution_count": 7
        }
      ],
      "source": [
        "doc_sentences = [sent for sent in doc.sents]\n",
        "len(doc_sentences)"
      ]
    },
    {
      "cell_type": "markdown",
      "metadata": {
        "id": "_Pj8R9qqrd03"
      },
      "source": [
        "**4. Print the second sentence in the document**<br> HINT: Indexing starts at zero, and the title counts as the first sentence."
      ]
    },
    {
      "cell_type": "code",
      "execution_count": 8,
      "metadata": {
        "colab": {
          "base_uri": "https://localhost:8080/"
        },
        "id": "6ifMdiTXrd03",
        "outputId": "635dd222-d75a-459b-da5f-251b3d6be04b"
      },
      "outputs": [
        {
          "output_type": "stream",
          "name": "stdout",
          "text": [
            "The man's hands were behind\n",
            "his back, the wrists bound with a cord.  \n"
          ]
        }
      ],
      "source": [
        "print(doc_sentences[1].text)"
      ]
    },
    {
      "cell_type": "markdown",
      "metadata": {
        "id": "8lDSLJOqrd03"
      },
      "source": [
        "** 5. For each token in the sentence above, print its `text`, `POS` tag, `dep` tag and `lemma`<br>\n",
        "CHALLENGE: Have values line up in columns in the print output.**"
      ]
    },
    {
      "cell_type": "code",
      "execution_count": null,
      "metadata": {
        "id": "ZPH1SJE_rd03",
        "outputId": "c1a371c1-197f-4838-e9af-c95768dcf76f"
      },
      "outputs": [
        {
          "name": "stdout",
          "output_type": "stream",
          "text": [
            "A DET det a\n",
            "man NOUN nsubj man\n",
            "stood VERB ROOT stand\n",
            "upon ADP prep upon\n",
            "a DET det a\n",
            "railroad NOUN compound railroad\n",
            "bridge NOUN pobj bridge\n",
            "in ADP prep in\n",
            "northern ADJ amod northern\n",
            "Alabama PROPN pobj alabama\n",
            ", PUNCT punct ,\n",
            "looking VERB advcl look\n",
            "down PART prt down\n",
            "\n",
            " SPACE  \n",
            "\n",
            "into ADP prep into\n",
            "the DET det the\n",
            "swift ADJ amod swift\n",
            "water NOUN pobj water\n",
            "twenty NUM nummod twenty\n",
            "feet NOUN npadvmod foot\n",
            "below ADV advmod below\n",
            ". PUNCT punct .\n",
            "  SPACE   \n"
          ]
        }
      ],
      "source": [
        "# NORMAL SOLUTION:\n",
        "\n"
      ]
    },
    {
      "cell_type": "code",
      "execution_count": 10,
      "metadata": {
        "colab": {
          "base_uri": "https://localhost:8080/"
        },
        "id": "JjF8bVsNrd03",
        "outputId": "35923e52-2f8e-4e03-eebd-a48f85aafc21"
      },
      "outputs": [
        {
          "output_type": "stream",
          "name": "stdout",
          "text": [
            "The             DET   det        the            \n",
            "man             NOUN  poss       man            \n",
            "'s              PART  case       's             \n",
            "hands           NOUN  nsubj      hand           \n",
            "were            AUX   ROOT       be             \n",
            "behind          ADP   prep       behind         \n",
            "\n",
            "               SPACE dep        \n",
            "              \n",
            "his             PRON  poss       his            \n",
            "back            NOUN  pobj       back           \n",
            ",               PUNCT punct      ,              \n",
            "the             DET   det        the            \n",
            "wrists          NOUN  appos      wrist          \n",
            "bound           VERB  acl        bind           \n",
            "with            ADP   prep       with           \n",
            "a               DET   det        a              \n",
            "cord            NOUN  pobj       cord           \n",
            ".               PUNCT punct      .              \n",
            "                SPACE dep                       \n"
          ]
        }
      ],
      "source": [
        "# CHALLENGE SOLUTION:\n",
        "for token in doc_sentences[1]:\n",
        "   print(f\"{token.text :{15}} {token.pos_:{5}} {token.dep_:{10}} {token.lemma_:{15}}\")\n"
      ]
    },
    {
      "cell_type": "markdown",
      "metadata": {
        "id": "SPlrbFxcrd03"
      },
      "source": [
        "**6. Write a matcher called 'Swimming' that finds both occurrences of the phrase \"swimming vigorously\" in the text**<br>\n",
        "HINT: You should include an `'IS_SPACE': True` pattern between the two words!"
      ]
    },
    {
      "cell_type": "code",
      "execution_count": 13,
      "metadata": {
        "id": "dDsZqPnDrd03"
      },
      "outputs": [],
      "source": [
        "# Import the Matcher library:\n",
        "\n",
        "from spacy.matcher import Matcher\n",
        "matcher = Matcher(nlp.vocab)"
      ]
    },
    {
      "cell_type": "code",
      "execution_count": 18,
      "metadata": {
        "id": "u-BZJZU_rd03"
      },
      "outputs": [],
      "source": [
        "# Create a pattern and add it to matcher:\n",
        "pattern = [{'LOWER' : 'swimming'},{'IS_SPACE':True,'OP':'*'},{'LOWER':'vigorously'}]\n",
        "matcher.add(\"Swimming\", [pattern])"
      ]
    },
    {
      "cell_type": "code",
      "execution_count": 19,
      "metadata": {
        "colab": {
          "base_uri": "https://localhost:8080/"
        },
        "id": "7jwNTMz_rd03",
        "outputId": "da93a633-ca9a-4408-a5a2-4297dd18eb4c"
      },
      "outputs": [
        {
          "output_type": "stream",
          "name": "stdout",
          "text": [
            "[(12881893835109366681, 1274, 1277), (12881893835109366681, 3609, 3612)]\n"
          ]
        }
      ],
      "source": [
        "# Create a list of matches called \"found_matches\" and print the list:\n",
        "\n",
        "found_matches = matcher(doc)\n",
        "print(found_matches)\n"
      ]
    },
    {
      "cell_type": "markdown",
      "metadata": {
        "id": "_wsvK09nrd03"
      },
      "source": [
        "**7. Print the text surrounding each found match**"
      ]
    },
    {
      "cell_type": "code",
      "execution_count": 20,
      "metadata": {
        "colab": {
          "base_uri": "https://localhost:8080/"
        },
        "id": "MizJeEFErd03",
        "outputId": "7a70c31c-647a-4ffa-f0f6-fad206fb3693"
      },
      "outputs": [
        {
          "output_type": "stream",
          "name": "stdout",
          "text": [
            "evade the bullets and, swimming\n",
            "vigorously, reach the bank,\n"
          ]
        }
      ],
      "source": [
        "def surrounding(doc,start,end):\n",
        "    print(doc[start-5:end+5])\n",
        "surrounding(doc,1274,1277)"
      ]
    },
    {
      "cell_type": "code",
      "execution_count": 21,
      "metadata": {
        "colab": {
          "base_uri": "https://localhost:8080/"
        },
        "id": "zu4SQSL_rd03",
        "outputId": "a40df135-d3fd-4adc-a830-e1b82a04a590"
      },
      "outputs": [
        {
          "output_type": "stream",
          "name": "stdout",
          "text": [
            "shoulder; he was now swimming\n",
            "vigorously with the current.  \n"
          ]
        }
      ],
      "source": [
        "surrounding(doc,3609,3612)"
      ]
    },
    {
      "cell_type": "markdown",
      "metadata": {
        "id": "LaAnmskwrd03"
      },
      "source": [
        "**EXTRA CREDIT:<br>Print the *sentence* that contains each found match**"
      ]
    },
    {
      "cell_type": "code",
      "execution_count": 23,
      "metadata": {
        "colab": {
          "base_uri": "https://localhost:8080/"
        },
        "id": "e0E2gpLUrd03",
        "outputId": "19248719-3914-4322-a372-f3b723290610"
      },
      "outputs": [
        {
          "output_type": "stream",
          "name": "stdout",
          "text": [
            "By diving I could evade the bullets and, swimming\n",
            "vigorously, reach the bank, take to the woods and get away home.  \n"
          ]
        }
      ],
      "source": [
        "for sentence in doc_sentences:\n",
        "    if found_matches[0][1] < sentence.end:\n",
        "        print(sentence)\n",
        "        break\n",
        "\n"
      ]
    },
    {
      "cell_type": "code",
      "execution_count": 24,
      "metadata": {
        "colab": {
          "base_uri": "https://localhost:8080/"
        },
        "id": "XqkxQPBXrd04",
        "outputId": "8a1b9537-39de-4a6d-fe82-0ba03779e832"
      },
      "outputs": [
        {
          "output_type": "stream",
          "name": "stdout",
          "text": [
            "The hunted man saw all this over his shoulder; he was now swimming\n",
            "vigorously with the current.  \n"
          ]
        }
      ],
      "source": [
        "for sentence in doc_sentences:\n",
        "    if found_matches[1][1] < sentence.end:\n",
        "        print(sentence)\n",
        "        break\n",
        "\n",
        "\n",
        "\n"
      ]
    },
    {
      "cell_type": "markdown",
      "metadata": {
        "id": "-lvEnUaWrd04"
      },
      "source": [
        "### Great Job!"
      ]
    }
  ],
  "metadata": {
    "kernelspec": {
      "display_name": "Python 3",
      "language": "python",
      "name": "python3"
    },
    "language_info": {
      "codemirror_mode": {
        "name": "ipython",
        "version": 3
      },
      "file_extension": ".py",
      "mimetype": "text/x-python",
      "name": "python",
      "nbconvert_exporter": "python",
      "pygments_lexer": "ipython3",
      "version": "3.6.2"
    },
    "colab": {
      "provenance": [],
      "include_colab_link": true
    }
  },
  "nbformat": 4,
  "nbformat_minor": 0
}